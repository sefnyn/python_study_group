{
 "cells": [
  {
   "cell_type": "code",
   "execution_count": 2,
   "metadata": {},
   "outputs": [],
   "source": [
    "#!/usr/bin/env python3"
   ]
  },
  {
   "cell_type": "code",
   "execution_count": 14,
   "metadata": {},
   "outputs": [],
   "source": [
    "#for file dialog windows\n",
    "from tkinter import Tk\n",
    "from tkinter.filedialog import askdirectory\n",
    "\n",
    "#to generate list of all files in folder\n",
    "import os"
   ]
  },
  {
   "cell_type": "code",
   "execution_count": 15,
   "metadata": {},
   "outputs": [],
   "source": [
    "dSelect = askdirectory()"
   ]
  },
  {
   "cell_type": "code",
   "execution_count": 16,
   "metadata": {},
   "outputs": [
    {
     "name": "stdout",
     "output_type": "stream",
     "text": [
      "C:/Users/pwaite/OneDrive - University of Massachusetts/Documents/profesional development/Digital Preservation/Session 2/Inputfiles\n"
     ]
    }
   ],
   "source": [
    "print(dSelect)"
   ]
  },
  {
   "cell_type": "code",
   "execution_count": 45,
   "metadata": {},
   "outputs": [
    {
     "name": "stdout",
     "output_type": "stream",
     "text": [
      "False\n"
     ]
    }
   ],
   "source": [
    "#creates dummy file for renameing process\n",
    "try:\n",
    "    path = f'{dSelect}/renameMe.txt'\n",
    "    isExist = os.path.exists(path)\n",
    "    print(isExist)\n",
    "    open(f'{dSelect}/renameMe.txt','w')\n",
    "except:\n",
    "    print('file already exists')\n"
   ]
  },
  {
   "cell_type": "code",
   "execution_count": 46,
   "metadata": {},
   "outputs": [
    {
     "name": "stdout",
     "output_type": "stream",
     "text": [
      "['file1.txt', 'file2.txt', 'iWasRenamed.txt', 'iWasRenamed4.txt', 'iWasRenamed5.txt', 'renameMe.txt']\n",
      "Renamed renameMe.txt to iWasRenamed6.txt\n"
     ]
    }
   ],
   "source": [
    "#run to create updated file list\n",
    "file_list = os.listdir(dSelect)\n",
    "print(file_list)\n",
    "count = 0\n",
    "for file in file_list:\n",
    "    count = count+1\n",
    "    #check for file extention\n",
    "    if file.endswith('.txt'):\n",
    "        #check if 'rename' is in the file name\n",
    "        if 'rename' in file:\n",
    "            #replace renameMe with iWasRenamed\n",
    "            newName = file.replace('renameMe',f'iWasRenamed{count}')\n",
    "            #rename the file using os.rename\n",
    "            os.rename(os.path.join(dSelect,file), os.path.join(dSelect, newName))\n",
    "            # print out confirmation\n",
    "            print(f\"Renamed {file} to {newName}\")"
   ]
  }
 ],
 "metadata": {
  "kernelspec": {
   "display_name": "Python 3",
   "language": "python",
   "name": "python3"
  },
  "language_info": {
   "codemirror_mode": {
    "name": "ipython",
    "version": 3
   },
   "file_extension": ".py",
   "mimetype": "text/x-python",
   "name": "python",
   "nbconvert_exporter": "python",
   "pygments_lexer": "ipython3",
   "version": "3.10.6"
  }
 },
 "nbformat": 4,
 "nbformat_minor": 2
}
