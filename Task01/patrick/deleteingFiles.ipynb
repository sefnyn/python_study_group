{
 "cells": [
  {
   "cell_type": "code",
   "execution_count": 2,
   "metadata": {},
   "outputs": [],
   "source": [
    "#for file dialog windows\n",
    "from tkinter import Tk\n",
    "from tkinter.filedialog import askdirectory\n",
    "\n",
    "#to generate list of all files in folder\n",
    "import os"
   ]
  },
  {
   "cell_type": "code",
   "execution_count": 3,
   "metadata": {},
   "outputs": [],
   "source": [
    "dir_path = askdirectory()\n",
    "os.chdir(dir_path)"
   ]
  },
  {
   "cell_type": "code",
   "execution_count": 13,
   "metadata": {},
   "outputs": [
    {
     "name": "stdout",
     "output_type": "stream",
     "text": [
      "C:/Users/pwaite/OneDrive - University of Massachusetts/Documents/profesional development/Digital Preservation/Session 2/deleteMe/thumbs.db\n",
      "False\n"
     ]
    }
   ],
   "source": [
    "#creates dummy file for delete process\n",
    "try:\n",
    "    path = f'{dir_path}/thumbs.db'\n",
    "    isExist = os.path.exists(path)\n",
    "    print(path)\n",
    "    print(isExist)\n",
    "    open(f'{dir_path}/thumbs.db','w')\n",
    "except:\n",
    "    print('file already exists')"
   ]
  },
  {
   "cell_type": "code",
   "execution_count": 14,
   "metadata": {},
   "outputs": [
    {
     "name": "stdout",
     "output_type": "stream",
     "text": [
      "thumbs.db\n"
     ]
    }
   ],
   "source": [
    "for item in os.listdir():\n",
    "    if os.path.isfile(item):\n",
    "        if item == 'thumbs.db':\n",
    "            print(item)\n",
    "            os.remove(item)"
   ]
  },
  {
   "cell_type": "code",
   "execution_count": null,
   "metadata": {},
   "outputs": [],
   "source": []
  }
 ],
 "metadata": {
  "kernelspec": {
   "display_name": "Python 3",
   "language": "python",
   "name": "python3"
  },
  "language_info": {
   "codemirror_mode": {
    "name": "ipython",
    "version": 3
   },
   "file_extension": ".py",
   "mimetype": "text/x-python",
   "name": "python",
   "nbconvert_exporter": "python",
   "pygments_lexer": "ipython3",
   "version": "3.10.6"
  }
 },
 "nbformat": 4,
 "nbformat_minor": 2
}
