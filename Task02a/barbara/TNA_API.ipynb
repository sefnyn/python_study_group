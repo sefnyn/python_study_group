{
  "nbformat": 4,
  "nbformat_minor": 0,
  "metadata": {
    "colab": {
      "provenance": []
    },
    "kernelspec": {
      "name": "python3",
      "display_name": "Python 3"
    },
    "language_info": {
      "name": "python"
    }
  },
  "cells": [
    {
      "cell_type": "code",
      "execution_count": 1,
      "metadata": {
        "id": "0PsXYE_CC2jl"
      },
      "outputs": [],
      "source": [
        "\n",
        "import requests\n",
        "import pandas as pd\n",
        "from datetime import datetime\n",
        "import matplotlib.pyplot as plt\n",
        "#import seaborn as sns"
      ]
    },
    {
      "cell_type": "code",
      "source": [
        "\n",
        "def search(entity: str, query:str) ->list:\n",
        "#record file entity types: P = people, B = business, O = organisation, F = family, M = manor\n",
        "    \"\"\"\n",
        "    Calls API and returns data\n",
        "\n",
        "        parameters:\n",
        "            (str) entity to search for\n",
        "            (str) query term\n",
        "\n",
        "        Returns:\n",
        "            JSON output as list of dictionaries\n",
        "    \"\"\"\n",
        "#have used the url to set limits on dates, to limit the size of the data returned - and to help with the pandas issue around dates (see below)\n",
        "    url = 'https://discovery.nationalarchives.gov.uk/API/search/v1/fileauthorities?sps.fileAuthorityEntityTypes={}&sps.dateFrom=1750-01-01&sps.dateTo=1950-12-31&sps.searchQuery={}&sps.resultsPageSize=1000'.format(entity, query)\n",
        "    response = requests.get(url)\n",
        "    if response.status_code != 200: #error handling\n",
        "        print(response.text)\n",
        "        exit() #stop programme if response is not correct\n",
        "    else:\n",
        "        records = response.json()\n",
        "    print('the chosen parameters to search are ', entity, 'and ', query)\n",
        "    return records\n"
      ],
      "metadata": {
        "id": "oNu3bQCsC7WC"
      },
      "execution_count": 2,
      "outputs": []
    },
    {
      "cell_type": "code",
      "source": [
        "def toDF(dfdata: list, cols: list) ->object:\n",
        "\n",
        "    \"\"\"\n",
        "    create pandas dataframe from output of API call, adding in only certain columns\n",
        "    :param dfdata: list of data from API call\n",
        "    :param cols: list of columns to be used\n",
        "    :return: pd.datafrome\n",
        "    \"\"\"\n",
        "\n",
        "    df = pd.DataFrame(data=dfdata, columns=cols)\n",
        "    return df"
      ],
      "metadata": {
        "id": "VhpveJTaC7Sy"
      },
      "execution_count": 3,
      "outputs": []
    },
    {
      "cell_type": "code",
      "source": [
        "\n",
        "##Since pandas represents timestamps in nanosecond resolution, the timespan that can be represented using a 64-bit integer is limited to approximately 584 years\n",
        "## This is not good for historical data - using the errors = 'coerce arguement forces the dates outside bounds to NaT\n",
        "## this is not great in terms of data loss, but allows processing of the rest of the data\n",
        "def getYear(df, col1: str, col2: str) -> object:\n",
        "\n",
        "    \"\"\"\n",
        "    get the year from datetime\n",
        "    :param df: (str) name of datafrome\n",
        "    :param col1: (str) name of column with datetime\n",
        "    :param col2: (str) name of column to add with Year\n",
        "    :return: updated dafaframe\n",
        "    \"\"\"\n",
        "\n",
        "    df[col1] = pd.to_datetime(df[col1], infer_datetime_format=True, errors='coerce')  #format='%d/%m/%Y'\n",
        "    df[col2] = df[col1].dt.year #pandas allows infered datetime, which is useful with imperfectly formated data\n",
        "\n",
        "    return df"
      ],
      "metadata": {
        "id": "Nlvbvw_IC7OL"
      },
      "execution_count": 4,
      "outputs": []
    },
    {
      "cell_type": "code",
      "source": [
        "def placeCount(df, col: str) ->object:\n",
        "\n",
        "    \"\"\"\n",
        "    count the number of times places appear in the data\n",
        "    :param df: name of dataframe to be used\n",
        "    :param col: column name\n",
        "    :return: new dataframe with counts of data\n",
        "    \"\"\"\n",
        "\n",
        "    df[col] =df[col].astype(str) #place data is list of lists - convert to string\n",
        "    #use regex to remove punctuation, split string at whitespace (default). stack() transposes the data into rows, value_counts() counts number of times each term appears\n",
        "    df_places =df[col].str.replace(r'[^\\w\\s]+', '', regex=True).str.split(expand = True).stack().value_counts().nlargest(12) #nlargest takes the highest values\n",
        "    df_places.columns = ['names', 'counts']\n",
        "    return df_places\n"
      ],
      "metadata": {
        "id": "9r_PUJ--C7Lq"
      },
      "execution_count": 5,
      "outputs": []
    },
    {
      "cell_type": "code",
      "source": [
        "def SearchType(val: str, searchterm: str) ->dict:\n",
        "    # val is the keys for the API - the most searchable here are title, altName and place\n",
        "    \"\"\"\n",
        "    returns dictionary of number of times a searchterm appears in the data\n",
        "    :param val: key within which to search\n",
        "    :param searchterm: query term\n",
        "    :return: dictionary\n",
        "    \"\"\"\n",
        "\n",
        "    count_dict={}\n",
        "    records = search('P', 'physicist') #call first search funtion\n",
        "    authrecords = records['fileAuthorityAssets']\n",
        "    for item in authrecords:\n",
        "        if searchterm in item[val]: #check if searchterm is present\n",
        "            count_dict[searchterm] = count_dict.get(searchterm,0)+1 #add searchterm and count to dict\n",
        "            print(item['title'])\n",
        "        # else:\n",
        "        #     print(searchterm, ' not found')\n",
        "    return count_dict\n"
      ],
      "metadata": {
        "id": "ljmAtoFMC7Ii"
      },
      "execution_count": 6,
      "outputs": []
    },
    {
      "cell_type": "code",
      "source": [
        "#call search funtion\n",
        "records = search('P', 'physicist')\n",
        "AuthRecords = records['fileAuthorityAssets']\n",
        "\n",
        "#check how many records there are\n",
        "print(\"Total authority records to be retrieved:\",records[\"count\"]) #shows total number of records, though URL has capped the size returned to 1000"
      ],
      "metadata": {
        "colab": {
          "base_uri": "https://localhost:8080/"
        },
        "id": "QNh1NSBIDRIz",
        "outputId": "ec111270-7d72-420f-9d16-5ac794c33745"
      },
      "execution_count": 7,
      "outputs": [
        {
          "output_type": "stream",
          "name": "stdout",
          "text": [
            "the chosen parameters to search are  P and  physicist\n",
            "Total authority records to be retrieved: 262\n"
          ]
        }
      ]
    },
    {
      "cell_type": "code",
      "source": [
        "#show gender divide of people if using entity type P\n",
        "print('If using People entity type, gender divide of data: ')\n",
        "y = records['gender']\n",
        "print(y)\n"
      ],
      "metadata": {
        "colab": {
          "base_uri": "https://localhost:8080/"
        },
        "id": "HbKsOjWzDRDT",
        "outputId": "13cc1f9f-293b-4bc4-bbc0-27453107a40d"
      },
      "execution_count": 8,
      "outputs": [
        {
          "output_type": "stream",
          "name": "stdout",
          "text": [
            "If using People entity type, gender divide of data: \n",
            "[{'code': 'M', 'count': 256}, {'code': 'F', 'count': 6}]\n"
          ]
        }
      ]
    },
    {
      "cell_type": "code",
      "source": [
        "#list of column names to pass to dataframe\n",
        "ColNames = ['title','altName','places','startDate','endDate','repositoriesCount','CollectionCount',]\n",
        "#call funtion to create dataframe\n",
        "df = toDF(AuthRecords, ColNames)\n",
        "print('showing overview of data: ')\n",
        "df.head()"
      ],
      "metadata": {
        "colab": {
          "base_uri": "https://localhost:8080/",
          "height": 224
        },
        "id": "BiNbiYELDRAb",
        "outputId": "ede704e9-a0cf-41d3-e83c-b533dcdd694b"
      },
      "execution_count": 9,
      "outputs": [
        {
          "output_type": "stream",
          "name": "stdout",
          "text": [
            "showing overview of data: \n"
          ]
        },
        {
          "output_type": "execute_result",
          "data": {
            "text/plain": [
              "                                       title altName places   startDate  \\\n",
              "0           Irons, Eric, (d 1963), Physicist             []  01/01/1893   \n",
              "1   Freedman, Albert, (1916-2004), physicist             []  01/01/1916   \n",
              "2        Domb, Cyril, (1920-2012), physicist             []  01/01/1920   \n",
              "3     Keller, Andrew, (1925-1999), Physicist             []  01/01/1925   \n",
              "4  Pontecorvo, Bruno, (1913-1993), physicist             []  01/01/1913   \n",
              "\n",
              "      endDate  repositoriesCount  CollectionCount  \n",
              "0  31/12/1963                  1              NaN  \n",
              "1  31/12/2004                  1              NaN  \n",
              "2  31/12/2012                  1              NaN  \n",
              "3  31/12/1999                  1              NaN  \n",
              "4  31/12/1993                  1              NaN  "
            ],
            "text/html": [
              "\n",
              "  <div id=\"df-44530930-8754-4eb1-b0ae-b5fdf290f075\" class=\"colab-df-container\">\n",
              "    <div>\n",
              "<style scoped>\n",
              "    .dataframe tbody tr th:only-of-type {\n",
              "        vertical-align: middle;\n",
              "    }\n",
              "\n",
              "    .dataframe tbody tr th {\n",
              "        vertical-align: top;\n",
              "    }\n",
              "\n",
              "    .dataframe thead th {\n",
              "        text-align: right;\n",
              "    }\n",
              "</style>\n",
              "<table border=\"1\" class=\"dataframe\">\n",
              "  <thead>\n",
              "    <tr style=\"text-align: right;\">\n",
              "      <th></th>\n",
              "      <th>title</th>\n",
              "      <th>altName</th>\n",
              "      <th>places</th>\n",
              "      <th>startDate</th>\n",
              "      <th>endDate</th>\n",
              "      <th>repositoriesCount</th>\n",
              "      <th>CollectionCount</th>\n",
              "    </tr>\n",
              "  </thead>\n",
              "  <tbody>\n",
              "    <tr>\n",
              "      <th>0</th>\n",
              "      <td>Irons, Eric, (d 1963), Physicist</td>\n",
              "      <td></td>\n",
              "      <td>[]</td>\n",
              "      <td>01/01/1893</td>\n",
              "      <td>31/12/1963</td>\n",
              "      <td>1</td>\n",
              "      <td>NaN</td>\n",
              "    </tr>\n",
              "    <tr>\n",
              "      <th>1</th>\n",
              "      <td>Freedman, Albert, (1916-2004), physicist</td>\n",
              "      <td></td>\n",
              "      <td>[]</td>\n",
              "      <td>01/01/1916</td>\n",
              "      <td>31/12/2004</td>\n",
              "      <td>1</td>\n",
              "      <td>NaN</td>\n",
              "    </tr>\n",
              "    <tr>\n",
              "      <th>2</th>\n",
              "      <td>Domb, Cyril, (1920-2012), physicist</td>\n",
              "      <td></td>\n",
              "      <td>[]</td>\n",
              "      <td>01/01/1920</td>\n",
              "      <td>31/12/2012</td>\n",
              "      <td>1</td>\n",
              "      <td>NaN</td>\n",
              "    </tr>\n",
              "    <tr>\n",
              "      <th>3</th>\n",
              "      <td>Keller, Andrew, (1925-1999), Physicist</td>\n",
              "      <td></td>\n",
              "      <td>[]</td>\n",
              "      <td>01/01/1925</td>\n",
              "      <td>31/12/1999</td>\n",
              "      <td>1</td>\n",
              "      <td>NaN</td>\n",
              "    </tr>\n",
              "    <tr>\n",
              "      <th>4</th>\n",
              "      <td>Pontecorvo, Bruno, (1913-1993), physicist</td>\n",
              "      <td></td>\n",
              "      <td>[]</td>\n",
              "      <td>01/01/1913</td>\n",
              "      <td>31/12/1993</td>\n",
              "      <td>1</td>\n",
              "      <td>NaN</td>\n",
              "    </tr>\n",
              "  </tbody>\n",
              "</table>\n",
              "</div>\n",
              "    <div class=\"colab-df-buttons\">\n",
              "\n",
              "  <div class=\"colab-df-container\">\n",
              "    <button class=\"colab-df-convert\" onclick=\"convertToInteractive('df-44530930-8754-4eb1-b0ae-b5fdf290f075')\"\n",
              "            title=\"Convert this dataframe to an interactive table.\"\n",
              "            style=\"display:none;\">\n",
              "\n",
              "  <svg xmlns=\"http://www.w3.org/2000/svg\" height=\"24px\" viewBox=\"0 -960 960 960\">\n",
              "    <path d=\"M120-120v-720h720v720H120Zm60-500h600v-160H180v160Zm220 220h160v-160H400v160Zm0 220h160v-160H400v160ZM180-400h160v-160H180v160Zm440 0h160v-160H620v160ZM180-180h160v-160H180v160Zm440 0h160v-160H620v160Z\"/>\n",
              "  </svg>\n",
              "    </button>\n",
              "\n",
              "  <style>\n",
              "    .colab-df-container {\n",
              "      display:flex;\n",
              "      gap: 12px;\n",
              "    }\n",
              "\n",
              "    .colab-df-convert {\n",
              "      background-color: #E8F0FE;\n",
              "      border: none;\n",
              "      border-radius: 50%;\n",
              "      cursor: pointer;\n",
              "      display: none;\n",
              "      fill: #1967D2;\n",
              "      height: 32px;\n",
              "      padding: 0 0 0 0;\n",
              "      width: 32px;\n",
              "    }\n",
              "\n",
              "    .colab-df-convert:hover {\n",
              "      background-color: #E2EBFA;\n",
              "      box-shadow: 0px 1px 2px rgba(60, 64, 67, 0.3), 0px 1px 3px 1px rgba(60, 64, 67, 0.15);\n",
              "      fill: #174EA6;\n",
              "    }\n",
              "\n",
              "    .colab-df-buttons div {\n",
              "      margin-bottom: 4px;\n",
              "    }\n",
              "\n",
              "    [theme=dark] .colab-df-convert {\n",
              "      background-color: #3B4455;\n",
              "      fill: #D2E3FC;\n",
              "    }\n",
              "\n",
              "    [theme=dark] .colab-df-convert:hover {\n",
              "      background-color: #434B5C;\n",
              "      box-shadow: 0px 1px 3px 1px rgba(0, 0, 0, 0.15);\n",
              "      filter: drop-shadow(0px 1px 2px rgba(0, 0, 0, 0.3));\n",
              "      fill: #FFFFFF;\n",
              "    }\n",
              "  </style>\n",
              "\n",
              "    <script>\n",
              "      const buttonEl =\n",
              "        document.querySelector('#df-44530930-8754-4eb1-b0ae-b5fdf290f075 button.colab-df-convert');\n",
              "      buttonEl.style.display =\n",
              "        google.colab.kernel.accessAllowed ? 'block' : 'none';\n",
              "\n",
              "      async function convertToInteractive(key) {\n",
              "        const element = document.querySelector('#df-44530930-8754-4eb1-b0ae-b5fdf290f075');\n",
              "        const dataTable =\n",
              "          await google.colab.kernel.invokeFunction('convertToInteractive',\n",
              "                                                    [key], {});\n",
              "        if (!dataTable) return;\n",
              "\n",
              "        const docLinkHtml = 'Like what you see? Visit the ' +\n",
              "          '<a target=\"_blank\" href=https://colab.research.google.com/notebooks/data_table.ipynb>data table notebook</a>'\n",
              "          + ' to learn more about interactive tables.';\n",
              "        element.innerHTML = '';\n",
              "        dataTable['output_type'] = 'display_data';\n",
              "        await google.colab.output.renderOutput(dataTable, element);\n",
              "        const docLink = document.createElement('div');\n",
              "        docLink.innerHTML = docLinkHtml;\n",
              "        element.appendChild(docLink);\n",
              "      }\n",
              "    </script>\n",
              "  </div>\n",
              "\n",
              "\n",
              "<div id=\"df-6112b2b0-597b-43db-a7e0-81bbdc688336\">\n",
              "  <button class=\"colab-df-quickchart\" onclick=\"quickchart('df-6112b2b0-597b-43db-a7e0-81bbdc688336')\"\n",
              "            title=\"Suggest charts\"\n",
              "            style=\"display:none;\">\n",
              "\n",
              "<svg xmlns=\"http://www.w3.org/2000/svg\" height=\"24px\"viewBox=\"0 0 24 24\"\n",
              "     width=\"24px\">\n",
              "    <g>\n",
              "        <path d=\"M19 3H5c-1.1 0-2 .9-2 2v14c0 1.1.9 2 2 2h14c1.1 0 2-.9 2-2V5c0-1.1-.9-2-2-2zM9 17H7v-7h2v7zm4 0h-2V7h2v10zm4 0h-2v-4h2v4z\"/>\n",
              "    </g>\n",
              "</svg>\n",
              "  </button>\n",
              "\n",
              "<style>\n",
              "  .colab-df-quickchart {\n",
              "      --bg-color: #E8F0FE;\n",
              "      --fill-color: #1967D2;\n",
              "      --hover-bg-color: #E2EBFA;\n",
              "      --hover-fill-color: #174EA6;\n",
              "      --disabled-fill-color: #AAA;\n",
              "      --disabled-bg-color: #DDD;\n",
              "  }\n",
              "\n",
              "  [theme=dark] .colab-df-quickchart {\n",
              "      --bg-color: #3B4455;\n",
              "      --fill-color: #D2E3FC;\n",
              "      --hover-bg-color: #434B5C;\n",
              "      --hover-fill-color: #FFFFFF;\n",
              "      --disabled-bg-color: #3B4455;\n",
              "      --disabled-fill-color: #666;\n",
              "  }\n",
              "\n",
              "  .colab-df-quickchart {\n",
              "    background-color: var(--bg-color);\n",
              "    border: none;\n",
              "    border-radius: 50%;\n",
              "    cursor: pointer;\n",
              "    display: none;\n",
              "    fill: var(--fill-color);\n",
              "    height: 32px;\n",
              "    padding: 0;\n",
              "    width: 32px;\n",
              "  }\n",
              "\n",
              "  .colab-df-quickchart:hover {\n",
              "    background-color: var(--hover-bg-color);\n",
              "    box-shadow: 0 1px 2px rgba(60, 64, 67, 0.3), 0 1px 3px 1px rgba(60, 64, 67, 0.15);\n",
              "    fill: var(--button-hover-fill-color);\n",
              "  }\n",
              "\n",
              "  .colab-df-quickchart-complete:disabled,\n",
              "  .colab-df-quickchart-complete:disabled:hover {\n",
              "    background-color: var(--disabled-bg-color);\n",
              "    fill: var(--disabled-fill-color);\n",
              "    box-shadow: none;\n",
              "  }\n",
              "\n",
              "  .colab-df-spinner {\n",
              "    border: 2px solid var(--fill-color);\n",
              "    border-color: transparent;\n",
              "    border-bottom-color: var(--fill-color);\n",
              "    animation:\n",
              "      spin 1s steps(1) infinite;\n",
              "  }\n",
              "\n",
              "  @keyframes spin {\n",
              "    0% {\n",
              "      border-color: transparent;\n",
              "      border-bottom-color: var(--fill-color);\n",
              "      border-left-color: var(--fill-color);\n",
              "    }\n",
              "    20% {\n",
              "      border-color: transparent;\n",
              "      border-left-color: var(--fill-color);\n",
              "      border-top-color: var(--fill-color);\n",
              "    }\n",
              "    30% {\n",
              "      border-color: transparent;\n",
              "      border-left-color: var(--fill-color);\n",
              "      border-top-color: var(--fill-color);\n",
              "      border-right-color: var(--fill-color);\n",
              "    }\n",
              "    40% {\n",
              "      border-color: transparent;\n",
              "      border-right-color: var(--fill-color);\n",
              "      border-top-color: var(--fill-color);\n",
              "    }\n",
              "    60% {\n",
              "      border-color: transparent;\n",
              "      border-right-color: var(--fill-color);\n",
              "    }\n",
              "    80% {\n",
              "      border-color: transparent;\n",
              "      border-right-color: var(--fill-color);\n",
              "      border-bottom-color: var(--fill-color);\n",
              "    }\n",
              "    90% {\n",
              "      border-color: transparent;\n",
              "      border-bottom-color: var(--fill-color);\n",
              "    }\n",
              "  }\n",
              "</style>\n",
              "\n",
              "  <script>\n",
              "    async function quickchart(key) {\n",
              "      const quickchartButtonEl =\n",
              "        document.querySelector('#' + key + ' button');\n",
              "      quickchartButtonEl.disabled = true;  // To prevent multiple clicks.\n",
              "      quickchartButtonEl.classList.add('colab-df-spinner');\n",
              "      try {\n",
              "        const charts = await google.colab.kernel.invokeFunction(\n",
              "            'suggestCharts', [key], {});\n",
              "      } catch (error) {\n",
              "        console.error('Error during call to suggestCharts:', error);\n",
              "      }\n",
              "      quickchartButtonEl.classList.remove('colab-df-spinner');\n",
              "      quickchartButtonEl.classList.add('colab-df-quickchart-complete');\n",
              "    }\n",
              "    (() => {\n",
              "      let quickchartButtonEl =\n",
              "        document.querySelector('#df-6112b2b0-597b-43db-a7e0-81bbdc688336 button');\n",
              "      quickchartButtonEl.style.display =\n",
              "        google.colab.kernel.accessAllowed ? 'block' : 'none';\n",
              "    })();\n",
              "  </script>\n",
              "</div>\n",
              "    </div>\n",
              "  </div>\n"
            ],
            "application/vnd.google.colaboratory.intrinsic+json": {
              "type": "dataframe",
              "variable_name": "df",
              "summary": "{\n  \"name\": \"df\",\n  \"rows\": 262,\n  \"fields\": [\n    {\n      \"column\": \"title\",\n      \"properties\": {\n        \"dtype\": \"string\",\n        \"num_unique_values\": 262,\n        \"samples\": [\n          \"Lennard-Jones, Sir John Edward, (1894-1954), Knight, theoretical chemist and physicist\",\n          \"Bruce, Charles Edward Rhodes, (1902-1979), astronomer and physicist\",\n          \"Mulliken, Robert Sanderson, (b 1896), Physicist and Chemist\"\n        ],\n        \"semantic_type\": \"\",\n        \"description\": \"\"\n      }\n    },\n    {\n      \"column\": \"altName\",\n      \"properties\": {\n        \"dtype\": \"category\",\n        \"num_unique_values\": 8,\n        \"samples\": [\n          \"<aka><![CDATA[Cherwell]]></aka>\",\n          \"<fka><![CDATA[Jozef_Rotblat]]></fka>\",\n          \"\"\n        ],\n        \"semantic_type\": \"\",\n        \"description\": \"\"\n      }\n    },\n    {\n      \"column\": \"places\",\n      \"properties\": {\n        \"dtype\": \"object\",\n        \"semantic_type\": \"\",\n        \"description\": \"\"\n      }\n    },\n    {\n      \"column\": \"startDate\",\n      \"properties\": {\n        \"dtype\": \"object\",\n        \"num_unique_values\": 98,\n        \"samples\": [\n          \"01/01/1894\",\n          \"01/01/1899\",\n          \"01/01/1865\"\n        ],\n        \"semantic_type\": \"\",\n        \"description\": \"\"\n      }\n    },\n    {\n      \"column\": \"endDate\",\n      \"properties\": {\n        \"dtype\": \"object\",\n        \"num_unique_values\": 106,\n        \"samples\": [\n          \"31/12/1967\",\n          \"31/12/1955\",\n          \"31/12/1993\"\n        ],\n        \"semantic_type\": \"\",\n        \"description\": \"\"\n      }\n    },\n    {\n      \"column\": \"repositoriesCount\",\n      \"properties\": {\n        \"dtype\": \"number\",\n        \"std\": 3,\n        \"min\": 0,\n        \"max\": 21,\n        \"num_unique_values\": 17,\n        \"samples\": [\n          1,\n          6,\n          4\n        ],\n        \"semantic_type\": \"\",\n        \"description\": \"\"\n      }\n    },\n    {\n      \"column\": \"CollectionCount\",\n      \"properties\": {\n        \"dtype\": \"number\",\n        \"std\": null,\n        \"min\": null,\n        \"max\": null,\n        \"num_unique_values\": 0,\n        \"samples\": [],\n        \"semantic_type\": \"\",\n        \"description\": \"\"\n      }\n    }\n  ]\n}"
            }
          },
          "metadata": {},
          "execution_count": 9
        }
      ]
    },
    {
      "cell_type": "code",
      "source": [
        "#call funtion to extract year from datetime in dataframe start- and end-date columns\n",
        "df = getYear(df, 'startDate', 'FirstYear')\n",
        "df = getYear(df, 'endDate', 'LastYear')\n",
        "print('most common years: ')\n",
        "df['FirstYear'].value_counts()#value_counts() counts the number of times a value appears in a column"
      ],
      "metadata": {
        "colab": {
          "base_uri": "https://localhost:8080/"
        },
        "id": "uD2FQDAlDfKi",
        "outputId": "4d673b64-376b-4403-ea7e-456f25c0843d"
      },
      "execution_count": 10,
      "outputs": [
        {
          "output_type": "stream",
          "name": "stdout",
          "text": [
            "most common years: \n"
          ]
        },
        {
          "output_type": "execute_result",
          "data": {
            "text/plain": [
              "1908    12\n",
              "1903     8\n",
              "1851     8\n",
              "1911     8\n",
              "1887     6\n",
              "        ..\n",
              "1849     1\n",
              "1825     1\n",
              "1871     1\n",
              "1889     1\n",
              "1947     1\n",
              "Name: FirstYear, Length: 98, dtype: int64"
            ]
          },
          "metadata": {},
          "execution_count": 10
        }
      ]
    },
    {
      "cell_type": "code",
      "source": [
        "#call function to count places in the data\n",
        "df_placeNames= placeCount(df, 'places')\n",
        "#This is imperfect because 'North East' for example, becomes 'North' and 'East', but still gives an approximate idea of places in the data\n",
        "print('df of place names ... ')\n",
        "df_placeNames.head()\n"
      ],
      "metadata": {
        "colab": {
          "base_uri": "https://localhost:8080/"
        },
        "id": "8wsLdFozDfHb",
        "outputId": "588cc167-4d17-45c8-ce8c-fe21639eef88"
      },
      "execution_count": 11,
      "outputs": [
        {
          "output_type": "stream",
          "name": "stdout",
          "text": [
            "df of place names ... \n"
          ]
        },
        {
          "output_type": "execute_result",
          "data": {
            "text/plain": [
              "Yorkshire    12\n",
              "England       8\n",
              "East          6\n",
              "West          5\n",
              "South         4\n",
              "dtype: int64"
            ]
          },
          "metadata": {},
          "execution_count": 11
        }
      ]
    },
    {
      "cell_type": "code",
      "source": [
        "#create graph of place names\n",
        "placedata = df_placeNames\n",
        "print('graph of place-names ')\n",
        "placedata.plot.bar(x='names', y='counts')"
      ],
      "metadata": {
        "colab": {
          "base_uri": "https://localhost:8080/",
          "height": 513
        },
        "id": "wFyOnYheDlZ6",
        "outputId": "88a15b53-a20c-44cb-9c71-60cb23644976"
      },
      "execution_count": 12,
      "outputs": [
        {
          "output_type": "stream",
          "name": "stdout",
          "text": [
            "graph of place-names \n"
          ]
        },
        {
          "output_type": "execute_result",
          "data": {
            "text/plain": [
              "<Axes: >"
            ]
          },
          "metadata": {},
          "execution_count": 12
        },
        {
          "output_type": "display_data",
          "data": {
            "text/plain": [
              "<Figure size 640x480 with 1 Axes>"
            ],
            "image/png": "[encoded data removed]"
          },
          "metadata": {}
        }
      ]
    },
    {
      "cell_type": "code",
      "source": [
        "#call funtion to search data further with input from user\n",
        "val = input('Enter parameter to search: ') #parameter is the keys for the API - the most searchable here are title, altName and place\n",
        "searchterm = input('Enter search term: ')\n",
        "count_term = SearchType(val,searchterm)\n",
        "#check how many time the search term appeared\n",
        "for key, value in count_term.items():\n",
        "    print(\"The term\", key.upper(), 'was searched for in', val.upper(), 'and appeared in', value, \"instances\")\n"
      ],
      "metadata": {
        "colab": {
          "base_uri": "https://localhost:8080/"
        },
        "id": "UBGfSuL4DoYD",
        "outputId": "ded1ade9-5524-4440-a8d9-1a7705ce6dd0"
      },
      "execution_count": 14,
      "outputs": [
        {
          "output_type": "stream",
          "name": "stdout",
          "text": [
            "Enter parameter to search: title\n",
            "Enter search term: Albert\n",
            "the chosen parameters to search are  P and  physicist\n",
            "Freedman, Albert, (1916-2004), physicist\n",
            "Einstein, Albert, (1879-1955), physicist\n",
            "Kempton, Albert Ernest, (1911-2000), physicist\n",
            "Wilson, Harold Albert, (1874-1964), Physicist\n",
            "Boot, Henry Albert Howard, (1917-1983), physicist\n",
            "The term ALBERT was searched for in TITLE and appeared in 5 instances\n"
          ]
        }
      ]
    }
  ]
}